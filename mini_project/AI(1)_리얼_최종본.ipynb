{
 "cells": [
  {
   "cell_type": "markdown",
   "metadata": {
    "id": "vZ8TuwwtLi_N"
   },
   "source": [
    "미니 프로젝트"
   ]
  },
  {
   "cell_type": "code",
   "execution_count": null,
   "metadata": {
    "id": "-y594x601w_x"
   },
   "outputs": [],
   "source": [
    "import traitlets\n",
    "import ipywidgets.widgets as widgets\n",
    "from IPython.display import display\n",
    "from jetbot import Camera, bgr8_to_jpeg\n",
    "\n",
    "camera = Camera.instance(width=224, height=224)\n",
    "\n",
    "image = widgets.Image(format='jpeg', width=224, height=224)  # this width and height doesn't necessarily have to match the camera\n",
    "\n",
    "camera_link = traitlets.dlink((camera, 'value'), (image, 'value'), transform=bgr8_to_jpeg)\n",
    "\n",
    "display(image)\n",
    "\n",
    "#카메라 인스턴스 생성"
   ]
  },
  {
   "cell_type": "code",
   "execution_count": null,
   "metadata": {
    "id": "nXtCoO1w1w_z"
   },
   "outputs": [],
   "source": [
    "import os\n",
    "\n",
    "red_dir = \"dataset2/red\"\n",
    "no_dir = \"dataset2/no\"\n",
    "blue_dir = \"dataset2/blue\"\n",
    "\n",
    "# 디렉토리가 이미 존재하는 경우 다음 함수가 오류를 발생시킬 수 있기 때문에 \"try/except\" 문을 사용.\n",
    "try:\n",
    "    os.makedirs(red_dir)\n",
    "    os.makedirs(no_dir)\n",
    "    os.makedirs(blue_dir)\n",
    "except FileExistsError:\n",
    "    print('Directories not created becasue they already exist')"
   ]
  },
  {
   "cell_type": "code",
   "execution_count": null,
   "metadata": {
    "id": "--RTjeTb1w_z"
   },
   "outputs": [],
   "source": [
    "button_layout =  widgets.Layout(width='128px',height='64px')\n",
    "\n",
    "red_button = widgets.Button(description='add RED',button_style='success',layout=button_layout)\n",
    "red_button.style.button_color = 'red'\n",
    "\n",
    "blue_button = widgets.Button(description='add BLUE',button_style='success',layout=button_layout)\n",
    "blue_button.style.button_color = 'blue'\n",
    "\n",
    "no_button = widgets.Button(description='add NO',button_style='success',layout=button_layout)\n",
    "no_button.style.button_color = 'green'\n",
    "\n",
    "red_count = widgets.IntText(layout=button_layout,value=len(os.listdir(red_dir)))\n",
    "blue_count = widgets.IntText(layout=button_layout,value=len(os.listdir(blue_dir)))\n",
    "no_count = widgets.IntText(layout=button_layout,value=len(os.listdir(no_dir)))\n",
    "\n",
    "display(widgets.HBox([red_count, red_button]))\n",
    "display(widgets.HBox([blue_count, blue_button]))\n",
    "display(widgets.HBox([no_count, no_button]))\n",
    "# 각 사진을 저장할 수 있는 버튼과, 사진의 수량을 보여줄 텍스트 박스를 추가함.\n",
    "# 미로를 구성 할 파란색, 끝을 표현할 빨간색, 아무것도 없을 때를 판단하기 위한 no."
   ]
  },
  {
   "cell_type": "code",
   "execution_count": null,
   "metadata": {
    "id": "EqfgXpTU1w_0"
   },
   "outputs": [],
   "source": [
    "from uuid import uuid1\n",
    "\n",
    "def save_snapshot(directory):\n",
    "    image_path = os.path.join(directory, str(uuid1()) + '.jpg')\n",
    "    with open(image_path, 'wb') as f:\n",
    "        f.write(image.value)\n",
    "\n",
    "def save_blue():\n",
    "    global blue_dir, blue_count\n",
    "    save_snapshot(blue_dir)\n",
    "    blue_count.value = len(os.listdir(blue_dir))\n",
    "\n",
    "def save_red():\n",
    "    global red_dir, red_count\n",
    "    save_snapshot(red_dir)\n",
    "    red_count.value = len(os.listdir(red_dir))\n",
    "\n",
    "def save_no():\n",
    "    global no_dir, no_count\n",
    "    save_snapshot(no_dir)\n",
    "    no_count.value = len(os.listdir(no_dir))\n",
    "\n",
    "\n",
    "blue_button.on_click(lambda x: save_blue())\n",
    "red_button.on_click(lambda x: save_red())\n",
    "no_button.on_click(lambda x: save_no())\n",
    "\n",
    "#각 버튼 기능에 맞는 사진 저장 함수. on_Click이벤트에 등록.\n",
    "#즉, 버튼 누르면 저장됨."
   ]
  },
  {
   "cell_type": "code",
   "execution_count": null,
   "metadata": {
    "id": "7FnrDHRS1w_0"
   },
   "outputs": [],
   "source": [
    "display(image)\n",
    "display(widgets.HBox([red_count, red_button]))\n",
    "display(widgets.HBox([blue_count, blue_button]))\n",
    "display(widgets.HBox([no_count, no_button]))\n",
    "\n",
    "#카메라 보여주기--> 버튼 누르면, add photo 됨."
   ]
  },
  {
   "cell_type": "code",
   "execution_count": null,
   "metadata": {
    "id": "w_641_We1w_0"
   },
   "outputs": [],
   "source": [
    "import torch\n",
    "import torch.optim as optim\n",
    "import torch.nn.functional as F\n",
    "import torchvision\n",
    "import torchvision.datasets as datasets\n",
    "import torchvision.models as models\n",
    "import torchvision.transforms as transforms\n",
    "\n",
    "dataset = datasets.ImageFolder(\n",
    "    'dataset2',\n",
    "    transforms.Compose([\n",
    "        transforms.ColorJitter(0.1, 0.1, 0.1, 0.1),\n",
    "        transforms.Resize((224, 224)),\n",
    "        transforms.ToTensor(),\n",
    "        transforms.Normalize([0.485, 0.456, 0.406], [0.229, 0.224, 0.225])\n",
    "    ])\n",
    ")"
   ]
  },
  {
   "cell_type": "code",
   "execution_count": null,
   "metadata": {
    "id": "mr3Mb0xL1w_0"
   },
   "outputs": [],
   "source": [
    "train_dataset, test_dataset = torch.utils.data.random_split(dataset, [len(dataset) - 10, 10])"
   ]
  },
  {
   "cell_type": "code",
   "execution_count": null,
   "metadata": {
    "id": "RSBRzn1Y1w_1"
   },
   "outputs": [],
   "source": [
    "train_loader = torch.utils.data.DataLoader(\n",
    "    train_dataset,\n",
    "    batch_size=16,\n",
    "    shuffle=True,\n",
    "    num_workers=4\n",
    ")\n",
    "\n",
    "test_loader = torch.utils.data.DataLoader(\n",
    "    test_dataset,\n",
    "    batch_size=16,\n",
    "    shuffle=True,\n",
    "    num_workers=4\n",
    ")"
   ]
  },
  {
   "cell_type": "code",
   "execution_count": null,
   "metadata": {
    "id": "1SBTYoV71w_1"
   },
   "outputs": [],
   "source": [
    "model = models.alexnet(pretrained=True)"
   ]
  },
  {
   "cell_type": "code",
   "execution_count": null,
   "metadata": {
    "id": "C3TG_AOH1w_1"
   },
   "outputs": [],
   "source": [
    "model.classifier[6] = torch.nn.Linear(model.classifier[6].in_features, 3)"
   ]
  },
  {
   "cell_type": "code",
   "execution_count": null,
   "metadata": {
    "id": "Gq9oMdHg1w_1"
   },
   "outputs": [],
   "source": [
    "device = torch.device('cuda')\n",
    "model = model.to(device)"
   ]
  },
  {
   "cell_type": "code",
   "execution_count": null,
   "metadata": {
    "id": "waPYlQ9L1w_2"
   },
   "outputs": [],
   "source": [
    "NUM_EPOCHS = 30\n",
    "BEST_MODEL_PATH = 'best_model.pth'\n",
    "best_accuracy = 0.0\n",
    "\n",
    "optimizer = optim.SGD(model.parameters(), lr=0.001, momentum=0.9)\n",
    "\n",
    "for epoch in range(NUM_EPOCHS):\n",
    "\n",
    "    for images, labels in iter(train_loader):\n",
    "        images = images.to(device)\n",
    "        labels = labels.to(device)\n",
    "        optimizer.zero_grad()\n",
    "        outputs = model(images)\n",
    "        loss = F.cross_entropy(outputs, labels)\n",
    "        loss.backward()\n",
    "        optimizer.step()\n",
    "\n",
    "    test_error_count = 0.0\n",
    "    for images, labels in iter(test_loader):\n",
    "        images = images.to(device)\n",
    "        labels = labels.to(device)\n",
    "        outputs = model(images)\n",
    "        test_error_count += float(torch.sum(torch.abs(labels - outputs.argmax(1))))\n",
    "\n",
    "    test_accuracy = 1.0 - float(test_error_count) / float(len(test_dataset))\n",
    "    print('%d: %f' % (epoch, test_accuracy))\n",
    "    if test_accuracy > best_accuracy:\n",
    "        torch.save(model.state_dict(), BEST_MODEL_PATH)\n",
    "        best_accuracy = test_accuracy"
   ]
  },
  {
   "cell_type": "code",
   "execution_count": null,
   "metadata": {
    "id": "ZV6pTndm1w_2"
   },
   "outputs": [],
   "source": [
    "import torch\n",
    "import torchvision\n",
    "\n",
    "model = torchvision.models.alexnet(pretrained=False)\n",
    "model.classifier[6] = torch.nn.Linear(model.classifier[6].in_features, 3)"
   ]
  },
  {
   "cell_type": "code",
   "execution_count": null,
   "metadata": {
    "id": "0HNYwmbe1w_2"
   },
   "outputs": [],
   "source": [
    "model.load_state_dict(torch.load('best_model.pth'))"
   ]
  },
  {
   "cell_type": "code",
   "execution_count": null,
   "metadata": {
    "id": "phinUoTd1w_2"
   },
   "outputs": [],
   "source": [
    "device = torch.device('cuda')\n",
    "model = model.to(device)"
   ]
  },
  {
   "cell_type": "code",
   "execution_count": null,
   "metadata": {
    "id": "x6_E11Ue1w_2"
   },
   "outputs": [],
   "source": [
    "import cv2\n",
    "import numpy as np\n",
    "\n",
    "mean = 255.0 * np.array([0.485, 0.456, 0.406])\n",
    "stdev = 255.0 * np.array([0.229, 0.224, 0.225])\n",
    "\n",
    "normalize = torchvision.transforms.Normalize(mean, stdev)\n",
    "\n",
    "def preprocess(camera_value):\n",
    "    global device, normalize\n",
    "    x = camera_value\n",
    "    x = cv2.cvtColor(x, cv2.COLOR_BGR2RGB)\n",
    "    x = x.transpose((2, 0, 1))\n",
    "    x = torch.from_numpy(x).float()\n",
    "    x = normalize(x)\n",
    "    x = x.to(device)\n",
    "    x = x[None, ...]\n",
    "    return x"
   ]
  },
  {
   "cell_type": "markdown",
   "metadata": {
    "id": "kGIvC0GaQ10L"
   },
   "source": [
    "실행"
   ]
  },
  {
   "cell_type": "code",
   "execution_count": null,
   "metadata": {
    "id": "vCGpQBJl1w_3"
   },
   "outputs": [],
   "source": [
    "import traitlets\n",
    "from IPython.display import display\n",
    "import ipywidgets.widgets as widgets\n",
    "from jetbot import Camera, bgr8_to_jpeg\n",
    "\n",
    "camera = Camera.instance(width=224, height=224,fps=10)\n",
    "image = widgets.Image(format='jpeg', width=224, height=224)\n",
    "\n",
    "blue_slider = widgets.FloatSlider(description='blue', min=0.0, max=1.0, orientation='vertical')\n",
    "red_slider = widgets.FloatSlider(description='red', min=0.0, max=1.0, orientation='vertical')\n",
    "no_slider = widgets.FloatSlider(description='no', min=0.0, max=1.0, orientation='vertical')\n",
    "\n",
    "camera_link = traitlets.dlink((camera, 'value'), (image, 'value'), transform=bgr8_to_jpeg)\n",
    "\n",
    "display(widgets.HBox([image, blue_slider,red_slider,no_slider]))"
   ]
  },
  {
   "cell_type": "code",
   "execution_count": null,
   "metadata": {
    "id": "jRvA9qP_1w_3"
   },
   "outputs": [],
   "source": [
    "from jetbot import Robot\n",
    "import time\n",
    "\n",
    "robot = Robot()"
   ]
  },
  {
   "cell_type": "code",
   "execution_count": null,
   "metadata": {
    "id": "tvGZA0_71w_3"
   },
   "outputs": [],
   "source": [
    "import torch.nn.functional as F\n",
    "\n",
    "def move(robot, direction):\n",
    "  # 로봇을 주어진 방향으로 움직이는 함수 (예: \"forward\", \"left\", \"right\",\"back\")\n",
    "    if direction == \"forward\":\n",
    "    robot.set_motors(1.25,1.58)\n",
    "    time.sleep(0.88)\n",
    "    robot.stop()\n",
    "    \n",
    "    if direction == \"left\":\n",
    "    robot.set_motors(-1.65,1.3)\n",
    "    time.sleep(0.36)\n",
    "    robot.stop()\n",
    "\n",
    "    if direction == \"right\":\n",
    "    robot.set_motors(1.65,-1.3)\n",
    "    time.sleep(0.36)\n",
    "    robot.stop()\n",
    "    \n",
    "    if direction == \"back\":\n",
    "    robot.set_motors(-1.25,-1.58)\n",
    "    time.sleep(0.88)\n",
    "    robot.stop()\n",
    "\n",
    "def update(change):\n",
    "    global blocked_slider, robot\n",
    "    x = change['new']\n",
    "    x = preprocess(x)\n",
    "    y = model(x)\n",
    "\n",
    "    # we apply the `softmax` function to normalize the output vector so it sums to 1 (which makes it a probability distribution)\n",
    "    y = F.softmax(y, dim=1)\n",
    "    prob_blue = float(y.flatten()[2])\n",
    "    prob_red = float(y.flatten()[1])\n",
    "    prob_no = float(y.flatten()[0])\n",
    "\n",
    "    if prob_blue < 0.6:\n",
    "          return \"prob_blue\"\n",
    "    elif prob_red < 0.6:\n",
    "          return \"prob_red\"\n",
    "    else:\n",
    "          return \"no\""
   ]
  },
  {
   "cell_type": "code",
   "execution_count": null,
   "metadata": {
    "id": "VyC3kg881w_3"
   },
   "outputs": [],
   "source": [
    "# 갈림길 부터 길 저장 하는 과정 재귀함수로 작성 예정 --> 트리 순회와 동일하게 생각해보기 \n",
    "# 갈림길 확인 필요하므로 리스트 따로 만들어서, len()으로 2개 이상이면 그 자리부터 스택에 저장, 앞, 오, 왼 순서로 순회.\n",
    "# 재귀함수 내에 리스트 만든뒤 append, pop 써서 스택처럼 쓰기. \n",
    "# 끝 지점 빨간색 보면 종료. 이동마다 이동 메커니즘 저장. 백트랙킹에서는 pop하면서, 옳게 간 것만 저장함, 그 뒤 빨간색을 보면 생성된 최단경로로 다시 처음으로 이동 pop 하면서 move함수 이용하기. 그냥 메커니즘과 같음.\n",
    "# 필요한 리스트 종류는 3개. 1번, 최단거리 저장. 2번 백트래킹용, 3번 갈림길 존재 유무 확인용.\n",
    "# 월요일에 데이터셋 생성하고, 학습까지 시키자. 일단 짱규식 ta가 준 학습 코드 보기.\n",
    "# 애초에 너무 데이터셋이 많아서 그런것일지도 모르니, 20~30개 정도만 만들자. "
   ]
  },
  {
   "cell_type": "code",
   "execution_count": null,
   "metadata": {},
   "outputs": [],
   "source": [
    "def move(robot, direction):\n",
    "  # 로봇을 주어진 방향으로 움직이는 함수 (예: \"forward\", \"left\", \"right\",\"back\")\n",
    "    if direction == \"forward\":\n",
    "        robot.set_motors(1.25,1.58)\n",
    "        time.sleep(0.88)\n",
    "        robot.stop()\n",
    "    \n",
    "    if direction == \"left\":\n",
    "        robot.set_motors(-1.65,1.3)\n",
    "        time.sleep(0.36)\n",
    "        robot.stop()\n",
    "\n",
    "    if direction == \"right\":\n",
    "        robot.set_motors(1.65,-1.3)\n",
    "        time.sleep(0.36)\n",
    "        robot.stop()\n",
    "    \n",
    "    if direction == \"back\":\n",
    "        robot.set_motors(-1.25,-1.58)\n",
    "        time.sleep(0.88)\n",
    "        robot.stop()\n",
    "\n",
    "def is_crossroads(robot): #정상적인 저장, just 저장이므로 앞으로 이동하진 않음.\n",
    "    crossroad = list()\n",
    "    if update({'new': camera.value}) == \"prob_blue\":\n",
    "        crossroad.append(\"foward\")\n",
    "        move(robot, \"right\")\n",
    "            \n",
    "    else:\n",
    "        move(robot, \"right\")\n",
    "        \n",
    "    if update({'new': camera.value}) == \"prob_blue\":\n",
    "        crossroad.append(\"right\")\n",
    "        move(robot, \"left\")\n",
    "        move(robot, \"left\")\n",
    "    else:\n",
    "        move(robot, \"left\")\n",
    "        move(robot, \"left\")     \n",
    "        \n",
    "    if update({'new': camera.value}) == \"prob_blue\":\n",
    "        crossroad.append(\"left\")\n",
    "        move(robot, \"right\")\n",
    "    else:\n",
    "        move(robot, \"right\")\n",
    "    return crossroad # 갈림길에서 앞,오,왼중 어디에 길이 있는지 알려주는 스택, 마지막엔 젯봇이 앞을 보고 끝\n",
    "\n",
    "def backtracking(trever): #암, 왼, 오가 각각 다른것이므로 상관 x(오앞, 왼앞 문제)\n",
    "    global total_check ,trever\n",
    "    for i in trever: #이미 거꾸로 저장 중 ,이번엔 그냥 뽑고 가기가 맞음.\n",
    "        if i == \"back\":\n",
    "            total_check.pop()\n",
    "            trever.pop() #pop되는 대상은 back임.\n",
    "            move(robot, \"back\")\n",
    "        if i == \"right\":\n",
    "            total_check.pop()\n",
    "            trever.pop()\n",
    "            move(robot, \"right\")\n",
    "        if i == \"left\":\n",
    "            total_check.pop()\n",
    "            trever.pop()\n",
    "            move(robot, \"left\")\n",
    "\n",
    "def to_back_explore(robot): #갈림길에서 길 저장\n",
    "    global total_check ,trever\n",
    "    while True: #갈림길이 한 경로에 2개이상인 미로에는 실행 불가하다는 단점.\n",
    "        crossroad = is_crossroads(robot)\n",
    "        crossroad = list(reversed(crossroad))\n",
    "        new = update({'new': camera.value}) # 그 시점에 값 저장\n",
    "        if  new == \"prob_red\":\n",
    "            camera.stop()\n",
    "            camera.unobserve(update_image, names='value')\n",
    "            break\n",
    "        if len(crossroad) == 0:\n",
    "            return backtracking(trever)\n",
    "        \n",
    "        now = crossroad.pop()\n",
    "        if now == \"forward\":\n",
    "            total_check.append(\"back\") #거꾸로 저장\n",
    "            trever.append(\"back\") #거꾸로 저장\n",
    "            move(robot, \"forward\")\n",
    "        if now == \"right\":\n",
    "            total_check.append(\"left\")\n",
    "            trever.append(\"left\")\n",
    "            move(robot, \"right\")\n",
    "        if now == \"left\":\n",
    "            total_check.append(\"right\")\n",
    "            trever.append(\"right\")\n",
    "            move(robot, \"left\")\n",
    "        \n",
    "def total_move(total_check): #스택처럼 사용하기 위해 리버스함. for 문 쓰면 앞부터 접근.\n",
    "    total_check = list(reversed(total_check))\n",
    "    for i in total_check:\n",
    "        \n",
    "        if i == \"back\":\n",
    "            move(robot, \"back\") \n",
    "        if i == \"right\":\n",
    "            move(robot, \"right\")\n",
    "        if i == \"left\":\n",
    "            move(robot, \"left\")\n",
    "            \n",
    "def explore(robot): #미로 순회 함수\n",
    "    global total_check ,trever\n",
    "    while True:\n",
    "        camera.observe(update, names='value')\n",
    "        camera.start()\n",
    "        #빨간색 도착 지점에 도달한 경우, 미로 탈출 성공\n",
    "        new = update({'new': camera.value}) # 그 시점에 값 저장\n",
    "        \n",
    "        if  new == \"prob_red\":\n",
    "            camera.stop()\n",
    "            camera.unobserve(update_image, names='value')\n",
    "            break\n",
    "            \n",
    "        else:\n",
    "            crossroad = is_crossroads(robot)\n",
    "            #큐 로 사용하기 위함. pop, append\n",
    "            crossroad = list(reversed(crossroad)) #최소 0개~최대 3개\n",
    "            #3가지의 경우의 수 길이 1개 혹은, 0개 혹은, 1개 이상. 0개는 이론상 나올 수 없음.(출구없는 미로) 그러므로 제외.\n",
    "            if len(crossroad) == 1: #1개는 무조건 이동\n",
    "                now = crossroad.pop()\n",
    "                if now == \"forward\":\n",
    "                    total_check.append(\"back\")\n",
    "                    move(robot, \"forward\")\n",
    "                    \n",
    "                if now == \"right\":\n",
    "                    total_check.append(\"left\")\n",
    "                    move(robot, \"right\")\n",
    "                    move(robot, \"forward\")\n",
    "                \n",
    "                if now == \"left\":\n",
    "                    total_check.append(\"right\")\n",
    "                    move(robot, \"left\")\n",
    "                    move(robot, \"forward\")\n",
    "                \n",
    "            if len(crossroad) > 1:\n",
    "                for i in crossroad:# 갈림길의 모든 경우의 수 탐색, 앞, 오, 왼 순서로 순회.\n",
    "                    \n",
    "                    if i == \"forward\":\n",
    "                        to_back_explore(robot)\n",
    "                        if  update({'new': camera.value}) == \"prob_red\":\n",
    "                            camera.stop()\n",
    "                            camera.unobserve(update_image, names='value')\n",
    "                            break\n",
    "                        \n",
    "                    if i == \"right\":\n",
    "                        move(robot, \"right\")\n",
    "                        move(robot, \"forward\")\n",
    "                        to_back_explore(robot)\n",
    "                        if  update({'new': camera.value}) == \"prob_red\":\n",
    "                            camera.stop()\n",
    "                            camera.unobserve(update_image, names='value')\n",
    "                            break\n",
    "                        move(robot, \"back\")\n",
    "                        move(robot, \"left\")\n",
    "                    \n",
    "                    if i == \"left\":\n",
    "                        move(robot, \"left\")\n",
    "                        move(robot, \"forward\")\n",
    "                        to_back_explore(robot)\n",
    "                        if  update({'new': camera.value}) == \"prob_red\":\n",
    "                            camera.stop()\n",
    "                            camera.unobserve(update_image, names='value')\n",
    "                            break\n",
    "                        move(robot, \"back\")\n",
    "                        move(robot, \"right\")\n",
    "                    #앞,오,왼 순서로 순회필요\n",
    "                \n",
    "            \n",
    "            \n",
    "            camera.stop()\n",
    "            camera.unobserve(update_image, names='value')\n",
    "    total_move(total_check)\n",
    "            \n",
    "total_check = list()\n",
    "trever = list()"
   ]
  },
  {
   "cell_type": "code",
   "execution_count": null,
   "metadata": {},
   "outputs": [],
   "source": []
  }
 ],
 "metadata": {
  "colab": {
   "provenance": []
  },
  "kernelspec": {
   "display_name": "Python 3 (ipykernel)",
   "language": "python",
   "name": "python3"
  },
  "language_info": {
   "codemirror_mode": {
    "name": "ipython",
    "version": 3
   },
   "file_extension": ".py",
   "mimetype": "text/x-python",
   "name": "python",
   "nbconvert_exporter": "python",
   "pygments_lexer": "ipython3",
   "version": "3.9.13"
  }
 },
 "nbformat": 4,
 "nbformat_minor": 1
}
